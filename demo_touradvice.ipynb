{
 "cells": [
  {
   "cell_type": "markdown",
   "metadata": {},
   "source": [
    "# Bike tour advice for a given city"
   ]
  },
  {
   "cell_type": "code",
   "execution_count": 1,
   "metadata": {},
   "outputs": [
    {
     "name": "stderr",
     "output_type": "stream",
     "text": [
      "/home/marco/anaconda3/envs/langchain/lib/python3.11/site-packages/langchain_core/_api/deprecation.py:117: LangChainDeprecationWarning: The function `initialize_agent` was deprecated in LangChain 0.1.0 and will be removed in 0.2.0. Use Use new agent constructor methods like create_react_agent, create_json_agent, create_structured_chat_agent, etc. instead.\n",
      "  warn_deprecated(\n"
     ]
    }
   ],
   "source": [
    "from  llm_query import langchain_example\n",
    "from llm_query import langchain_ridetour\n",
    "import textwrap"
   ]
  },
  {
   "cell_type": "code",
   "execution_count": 2,
   "metadata": {},
   "outputs": [],
   "source": [
    "weather = langchain_ridetour.GetWeather()"
   ]
  },
  {
   "cell_type": "code",
   "execution_count": 4,
   "metadata": {},
   "outputs": [],
   "source": [
    "city = \"Brussels\"\n",
    "#"
   ]
  },
  {
   "cell_type": "code",
   "execution_count": 8,
   "metadata": {},
   "outputs": [
    {
     "name": "stderr",
     "output_type": "stream",
     "text": [
      "/home/marco/anaconda3/envs/langchain/lib/python3.11/site-packages/langchain_core/_api/deprecation.py:117: LangChainDeprecationWarning: The function `run` was deprecated in LangChain 0.1.0 and will be removed in 0.2.0. Use invoke instead.\n",
      "  warn_deprecated(\n"
     ]
    },
    {
     "name": "stdout",
     "output_type": "stream",
     "text": [
      "The current weather in Brussels is broken clouds with a temperature of 5.16°C.\n"
     ]
    }
   ],
   "source": [
    "answer = weather.answer(city)\n",
    "print(answer)"
   ]
  },
  {
   "cell_type": "markdown",
   "metadata": {},
   "source": [
    "## Now I get the advice for a biketour in the selected city\n"
   ]
  },
  {
   "cell_type": "code",
   "execution_count": 5,
   "metadata": {},
   "outputs": [
    {
     "name": "stderr",
     "output_type": "stream",
     "text": [
      "/home/marco/anaconda3/envs/langchain/lib/python3.11/site-packages/langchain_core/_api/deprecation.py:117: LangChainDeprecationWarning: The function `run` was deprecated in LangChain 0.1.0 and will be removed in 0.2.0. Use invoke instead.\n",
      "  warn_deprecated(\n"
     ]
    }
   ],
   "source": [
    "advice = langchain_ridetour.RideAdvice()\n",
    "langchain_advice = advice.tour_advice(city)\n"
   ]
  },
  {
   "cell_type": "code",
   "execution_count": 6,
   "metadata": {},
   "outputs": [
    {
     "data": {
      "text/plain": [
       "['content=\"The weather in Brussels might not be the best for cycling',\n",
       " 'with a temperature of 5.14°C and high humidity. It could be quite',\n",
       " 'chilly and potentially uncomfortable for cycling.\\\\n\\\\nHowever, if you',\n",
       " 'still want to explore Brussels, there are plenty of beautiful places',\n",
       " 'to visit. Some of the best places to visit in Brussels include:\\\\n\\\\n1.',\n",
       " 'Grand Place - The central square of Brussels, known for its stunning',\n",
       " 'architecture and historical buildings.\\\\n\\\\n2. Atomium - A unique',\n",
       " 'building shaped like an atom, offering panoramic views of the',\n",
       " 'city.\\\\n\\\\n3. Manneken Pis - A famous bronze statue of a little boy',\n",
       " 'peeing, a symbol of Brussels.\\\\n\\\\n4. Royal Palace of Brussels - The',\n",
       " 'official residence of the King of the Belgians, with beautiful gardens',\n",
       " 'and architecture.\\\\n\\\\n5. Parc du Cinquantenaire - A large park with',\n",
       " 'museums, monuments, and green spaces for leisurely walks.\\\\n\\\\n6.',\n",
       " 'Belgian Comic Strip Center - A museum dedicated to Belgian comics,',\n",
       " \"showcasing the country's rich history in cartoon art.\\\\n\\\\n7. Magritte\",\n",
       " 'Museum - A museum dedicated to the works of Belgian surrealist artist',\n",
       " 'René Magritte.\\\\n\\\\nThese are just a few of the many attractions',\n",
       " 'Brussels has to offer. Enjoy your visit!\"']"
      ]
     },
     "execution_count": 6,
     "metadata": {},
     "output_type": "execute_result"
    }
   ],
   "source": [
    "s =str(langchain_advice)\n",
    "s_wrap = textwrap.wrap(s)\n",
    "s_wrap"
   ]
  }
 ],
 "metadata": {
  "kernelspec": {
   "display_name": "langchain",
   "language": "python",
   "name": "python3"
  },
  "language_info": {
   "codemirror_mode": {
    "name": "ipython",
    "version": 3
   },
   "file_extension": ".py",
   "mimetype": "text/x-python",
   "name": "python",
   "nbconvert_exporter": "python",
   "pygments_lexer": "ipython3",
   "version": "3.11.4"
  }
 },
 "nbformat": 4,
 "nbformat_minor": 2
}
